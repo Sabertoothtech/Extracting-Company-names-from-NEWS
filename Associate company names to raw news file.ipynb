{
 "cells": [
  {
   "cell_type": "markdown",
   "metadata": {},
   "source": [
    "# Add company names to the scraped news file\n",
    "We have scraped the news data from different sources. But this news is in its raw form and we need to know which company's news was it. To know that we need to check from a list of companies which are listed in the NSE with every news. If the content of the news contains the name of the company, we associate that name in the \"Company Name\" column"
   ]
  },
  {
   "cell_type": "code",
   "execution_count": 1,
   "metadata": {},
   "outputs": [
    {
     "name": "stderr",
     "output_type": "stream",
     "text": [
      "C:\\Users\\T\\Anaconda3\\lib\\site-packages\\pandas\\core\\generic.py:3643: SettingWithCopyWarning: \n",
      "A value is trying to be set on a copy of a slice from a DataFrame.\n",
      "Try using .loc[row_indexer,col_indexer] = value instead\n",
      "\n",
      "See the caveats in the documentation: http://pandas.pydata.org/pandas-docs/stable/indexing.html#indexing-view-versus-copy\n",
      "  self[name] = value\n",
      "C:\\Users\\T\\Anaconda3\\lib\\site-packages\\ipykernel_launcher.py:19: UserWarning: This pattern has match groups. To actually get the groups, use str.extract.\n"
     ]
    }
   ],
   "source": [
    "import csv\n",
    "import pandas as pd\n",
    "\n",
    "f = pd.read_csv(r\"C:\\Users\\T\\Desktop\\newsFile.csv\",encoding=\"ISO-8859-1\")\n",
    "companies = pd.read_csv(r\"C:\\Users\\T\\Desktop\\companyNamesList.csv\",encoding=\"ISO-8859-1\")\n",
    "count = 0\n",
    "ld = open(r\"C:\\Users\\T\\Desktop\\newsWithCompanyName.csv\",'a',encoding=\"ISO-8859-1\",newline='')\n",
    "wr=csv.writer(ld)\n",
    "wr.writerow(['rowNumber','companyName','Source','Category','Date','Author','Title','Tags','Subtitle','Content'])\n",
    "for companyName,symbol in zip(companies.NAMEOFCOMPANY,companies.SYMBOL):\n",
    "    companyNamestr = str(companyName)\n",
    "    symbolstr = str(symbol)\n",
    "    listOfNames = []\n",
    "    listOfNames.append(companyNamestr)\n",
    "    listOfNames.append(companyNamestr.lower())\n",
    "    listOfNames.append(companyNamestr.upper())\n",
    "\n",
    "    for searchRow in listOfNames:\n",
    "        v = f[f.Content.str.contains(searchRow)]\n",
    "        try:\n",
    "            v.companyName = companyNamestr\n",
    "            v.to_csv(ld,header = False)\n",
    "        except:\n",
    "            pass\n",
    "ld.close()\n"
   ]
  }
 ],
 "metadata": {
  "kernelspec": {
   "display_name": "Python 3",
   "language": "python",
   "name": "python3"
  },
  "language_info": {
   "codemirror_mode": {
    "name": "ipython",
    "version": 3
   },
   "file_extension": ".py",
   "mimetype": "text/x-python",
   "name": "python",
   "nbconvert_exporter": "python",
   "pygments_lexer": "ipython3",
   "version": "3.6.4"
  }
 },
 "nbformat": 4,
 "nbformat_minor": 2
}
